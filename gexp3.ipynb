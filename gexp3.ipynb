{
 "cells": [
  {
   "cell_type": "code",
   "execution_count": 1,
   "id": "5bac7200-1110-4f41-bfcb-77de6f644543",
   "metadata": {},
   "outputs": [],
   "source": [
    "import pandas as pd\n",
    "import numpy as np"
   ]
  },
  {
   "cell_type": "code",
   "execution_count": 2,
   "id": "01ab8cbc-04da-4536-b501-2dace7fdeb48",
   "metadata": {},
   "outputs": [],
   "source": [
    "# load expression values of 46 Prolaris genes in all 498 TCGA PRAD patients\n",
    "gexp = pd.read_csv('PRAD_genes_list3a.csv')\n",
    "gexp.set_index('gene symbol', inplace = True)"
   ]
  },
  {
   "cell_type": "code",
   "execution_count": 3,
   "id": "984f7868-9729-4475-99f3-783048d55ce7",
   "metadata": {},
   "outputs": [
    {
     "data": {
      "text/plain": [
       "(16, 498)"
      ]
     },
     "execution_count": 3,
     "metadata": {},
     "output_type": "execute_result"
    }
   ],
   "source": [
    "gexp.shape"
   ]
  },
  {
   "cell_type": "code",
   "execution_count": 4,
   "id": "129b9810-e8f4-4c09-a4f2-323f2a4f3ffc",
   "metadata": {},
   "outputs": [],
   "source": [
    "gexp = np.log2(gexp+1)"
   ]
  },
  {
   "cell_type": "code",
   "execution_count": 5,
   "id": "c912b594-fae0-4a4e-acc9-14a5d8c814fd",
   "metadata": {},
   "outputs": [],
   "source": [
    "# Determine class lables:  pfi<cutoff1, class 1 high risk,\n",
    "# pfi>cutoff2, class 3 low risk, cutoff1<pfi<cutoff2, class 2 medium risk\n",
    "df = pd.read_csv('PRAD_clinical_pfi_os.csv')\n",
    "df.set_index('full_bar_code', inplace = True)"
   ]
  },
  {
   "cell_type": "code",
   "execution_count": 6,
   "id": "99acd23b-a07a-424c-aab9-254c23302eb3",
   "metadata": {},
   "outputs": [],
   "source": [
    "pfi = df.loc[['PFI.1', 'PFI.time.1']]"
   ]
  },
  {
   "cell_type": "code",
   "execution_count": 7,
   "id": "adab32dd-ae14-403d-ae24-a0cb3a8968fe",
   "metadata": {},
   "outputs": [],
   "source": [
    "cutoff1, cutoff2 = 2*365, 5*365"
   ]
  },
  {
   "cell_type": "code",
   "execution_count": 8,
   "id": "0f9100c1-36d2-4a01-9999-0a76001aa06d",
   "metadata": {},
   "outputs": [],
   "source": [
    "class1 = pfi.columns[(pfi.loc['PFI.time.1']<cutoff1) & (pfi.loc['PFI.1'] == 1)].tolist()\n",
    "class2 = pfi.columns[(pfi.loc['PFI.time.1']>=cutoff1) &  (pfi.loc['PFI.time.1']<cutoff2) & (pfi.loc['PFI.1'] == 1)].tolist()\n",
    "class3 = pfi.columns[(pfi.loc['PFI.time.1']>=cutoff2)].tolist()"
   ]
  },
  {
   "cell_type": "code",
   "execution_count": 9,
   "id": "4f43e69c-5297-4e30-9682-0f11d1f786c5",
   "metadata": {
    "scrolled": true
   },
   "outputs": [
    {
     "data": {
      "text/plain": [
       "[52, 30, 63]"
      ]
     },
     "execution_count": 9,
     "metadata": {},
     "output_type": "execute_result"
    }
   ],
   "source": [
    "[len(class1), len(class2), len(class3)]"
   ]
  },
  {
   "cell_type": "code",
   "execution_count": 10,
   "id": "a52bbc40-51cb-4d42-ad22-2aff1cf8ad6f",
   "metadata": {},
   "outputs": [],
   "source": [
    "label = np.concatenate((np.ones(len(class1)), 2*np.ones(len(class2)), 3*np.ones(len(class3)))).astype(np.int8)"
   ]
  },
  {
   "cell_type": "code",
   "execution_count": 11,
   "id": "d3ffbfa1-075a-4e5a-85c2-83e827e6456b",
   "metadata": {},
   "outputs": [
    {
     "data": {
      "text/plain": [
       "array([1, 1, 1, 1, 1, 1, 1, 1, 1, 1, 1, 1, 1, 1, 1, 1, 1, 1, 1, 1, 1, 1,\n",
       "       1, 1, 1, 1, 1, 1, 1, 1, 1, 1, 1, 1, 1, 1, 1, 1, 1, 1, 1, 1, 1, 1,\n",
       "       1, 1, 1, 1, 1, 1, 1, 1, 2, 2, 2, 2, 2, 2, 2, 2, 2, 2, 2, 2, 2, 2,\n",
       "       2, 2, 2, 2, 2, 2, 2, 2, 2, 2, 2, 2, 2, 2, 2, 2, 3, 3, 3, 3, 3, 3,\n",
       "       3, 3, 3, 3, 3, 3, 3, 3, 3, 3, 3, 3, 3, 3, 3, 3, 3, 3, 3, 3, 3, 3,\n",
       "       3, 3, 3, 3, 3, 3, 3, 3, 3, 3, 3, 3, 3, 3, 3, 3, 3, 3, 3, 3, 3, 3,\n",
       "       3, 3, 3, 3, 3, 3, 3, 3, 3, 3, 3, 3, 3], dtype=int8)"
      ]
     },
     "execution_count": 11,
     "metadata": {},
     "output_type": "execute_result"
    }
   ],
   "source": [
    "label"
   ]
  },
  {
   "cell_type": "code",
   "execution_count": 12,
   "id": "4fbe3cd0-34cf-4f5f-9c70-e876b4bd95ec",
   "metadata": {},
   "outputs": [],
   "source": [
    "samples = class1 + class2 + class3\n",
    "gexptest = gexp.loc[:,samples]\n",
    "gexptest.loc['label'] = label"
   ]
  },
  {
   "cell_type": "code",
   "execution_count": 13,
   "id": "2019bf96-2aec-448e-afc1-88bb87b2fe86",
   "metadata": {},
   "outputs": [],
   "source": [
    "gexptest.to_csv('gexp3deciphe1.csv')"
   ]
  },
  {
   "cell_type": "code",
   "execution_count": null,
   "id": "b0988552-6180-4e18-a17b-41e5ef4250a4",
   "metadata": {},
   "outputs": [],
   "source": []
  },
  {
   "cell_type": "code",
   "execution_count": null,
   "id": "01ac4ddd-da81-48bf-b131-8b18f03ae10f",
   "metadata": {},
   "outputs": [],
   "source": []
  }
 ],
 "metadata": {
  "kernelspec": {
   "display_name": "env24",
   "language": "python",
   "name": "env24"
  },
  "language_info": {
   "codemirror_mode": {
    "name": "ipython",
    "version": 3
   },
   "file_extension": ".py",
   "mimetype": "text/x-python",
   "name": "python",
   "nbconvert_exporter": "python",
   "pygments_lexer": "ipython3",
   "version": "3.11.9"
  }
 },
 "nbformat": 4,
 "nbformat_minor": 5
}
